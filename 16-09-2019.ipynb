{
 "cells": [
  {
   "cell_type": "markdown",
   "metadata": {},
   "source": [
    "\n",
    "# Python Programming and Markdown\n",
    "## Python Programing and Markdown\n",
    "### Python Programming and Markdown\n",
    "#### Python Programming and Markdown\n",
    "##### Python Programming and Markdown\n",
    "###### Python Programming and Markdown\n"
   ]
  },
  {
   "cell_type": "markdown",
   "metadata": {},
   "source": [
    "##### program\n",
    "- Point 1\n",
    "  - point11\n",
    "    \n",
    "- Point 2\n",
    "   - point21\n",
    "   - point22\n",
    "- Point 3   \n",
    "\n"
   ]
  },
  {
   "cell_type": "raw",
   "metadata": {},
   "source": []
  },
  {
   "cell_type": "markdown",
   "metadata": {},
   "source": [
    "<img src='haha.png'/>"
   ]
  },
  {
   "cell_type": "markdown",
   "metadata": {},
   "source": [
    "print('hello gitam')"
   ]
  },
  {
   "cell_type": "code",
   "execution_count": 6,
   "metadata": {},
   "outputs": [
    {
     "name": "stdout",
     "output_type": "stream",
     "text": [
      "hello gitam\n",
      "vizag\n"
     ]
    }
   ],
   "source": [
    "print ('hello gitam')\n",
    "print ('vizag')"
   ]
  },
  {
   "cell_type": "code",
   "execution_count": 7,
   "metadata": {},
   "outputs": [
    {
     "name": "stdout",
     "output_type": "stream",
     "text": [
      "hello gitam |||vizag\n"
     ]
    }
   ],
   "source": [
    "print('hello gitam', '|||', end = '')\n",
    "print ('vizag')"
   ]
  },
  {
   "cell_type": "markdown",
   "metadata": {},
   "source": [
    "###Data type conversion\n",
    "\n",
    "- int\n",
    "- float\n",
    "- string"
   ]
  },
  {
   "cell_type": "code",
   "execution_count": 8,
   "metadata": {},
   "outputs": [
    {
     "name": "stdout",
     "output_type": "stream",
     "text": [
      "100\n",
      "<class 'int'>\n"
     ]
    }
   ],
   "source": [
    "a = 100\n",
    "print(a)\n",
    "print(type(a))"
   ]
  },
  {
   "cell_type": "code",
   "execution_count": 10,
   "metadata": {},
   "outputs": [
    {
     "name": "stdout",
     "output_type": "stream",
     "text": [
      "100\n",
      "python programming\n",
      "python programming\n",
      "<class 'int'>\n",
      "<class 'str'>\n",
      "<class 'str'>\n"
     ]
    }
   ],
   "source": [
    "a = 100\n",
    "s = 'python programming'\n",
    "s1 = \"python programming\"\n",
    "print(a)\n",
    "print(s)\n",
    "print(s1)\n",
    "print(type(a))\n",
    "print(type(s))\n",
    "print(type(s1))"
   ]
  },
  {
   "cell_type": "code",
   "execution_count": 11,
   "metadata": {},
   "outputs": [
    {
     "name": "stdout",
     "output_type": "stream",
     "text": [
      "100\n",
      "python programming\n",
      "python programming\n",
      "5.6723\n",
      "<class 'int'>\n",
      "<class 'str'>\n",
      "<class 'str'>\n",
      "<class 'float'>\n"
     ]
    }
   ],
   "source": [
    "a = 100\n",
    "s = 'python programming'\n",
    "s1 = \"python programming\"\n",
    "b = 5.6723\n",
    "print(a)\n",
    "print(s)\n",
    "print(s1)\n",
    "print(b)\n",
    "print(type(a))\n",
    "print(type(s))\n",
    "print(type(s1))\n",
    "print(type(b))"
   ]
  },
  {
   "cell_type": "markdown",
   "metadata": {},
   "source": [
    "### data type conversion\n",
    "- int()\n",
    "- float()\n",
    "- str()"
   ]
  },
  {
   "cell_type": "code",
   "execution_count": 15,
   "metadata": {},
   "outputs": [
    {
     "name": "stdout",
     "output_type": "stream",
     "text": [
      "100<class 'int'>\n",
      "100<class 'str'>\n"
     ]
    }
   ],
   "source": [
    "a = 100\n",
    "print(a,end= \"\")\n",
    "print(type(a))\n",
    "s1 = str(a)\n",
    "print(s1,end= \"\")\n",
    "print(type(s1))"
   ]
  },
  {
   "cell_type": "code",
   "execution_count": 18,
   "metadata": {},
   "outputs": [
    {
     "name": "stdout",
     "output_type": "stream",
     "text": [
      "100.213<class 'str'>\n",
      "100.213<class 'float'>\n",
      "100<class 'float'>\n"
     ]
    }
   ],
   "source": [
    "s1 = \"100.213\"\n",
    "print(s1,end= \"\")\n",
    "print(type(s1))\n",
    "a1=float(s1)\n",
    "print(a1,end= \"\")\n",
    "print(type(a1))\n",
    "a2= int(a1)\n",
    "print(a2,end=\"\")\n",
    "print(type(a1))"
   ]
  },
  {
   "cell_type": "code",
   "execution_count": 19,
   "metadata": {},
   "outputs": [
    {
     "name": "stdout",
     "output_type": "stream",
     "text": [
      "4\n"
     ]
    }
   ],
   "source": [
    "\n",
    "a = 1234\n",
    "print(len(str(a)))"
   ]
  },
  {
   "cell_type": "markdown",
   "metadata": {},
   "source": [
    "### input() function\n",
    "- read the input to the python program\n",
    "- reads the input in terms of string format"
   ]
  },
  {
   "cell_type": "code",
   "execution_count": 21,
   "metadata": {},
   "outputs": [
    {
     "name": "stdout",
     "output_type": "stream",
     "text": [
      "enter your name Sravya\n",
      " Sravya <class 'str'>\n"
     ]
    }
   ],
   "source": [
    "s1 = input('enter your name')\n",
    "print(s1,type(s1))"
   ]
  },
  {
   "cell_type": "code",
   "execution_count": null,
   "metadata": {},
   "outputs": [],
   "source": [
    "a1 = int(input('enter a number'))\n",
    "print(a1,type(a1))"
   ]
  },
  {
   "cell_type": "code",
   "execution_count": null,
   "metadata": {},
   "outputs": [],
   "source": [
    "a1 = int(input('enter a number'))\n",
    "print(a1,type(a1))"
   ]
  },
  {
   "cell_type": "code",
   "execution_count": 1,
   "metadata": {},
   "outputs": [
    {
     "name": "stdout",
     "output_type": "stream",
     "text": [
      "enter a number9\n",
      "9 <class 'int'>\n"
     ]
    }
   ],
   "source": [
    "a1 = int(input('enter a number'))\n",
    "print(a1,type(a1))"
   ]
  },
  {
   "cell_type": "code",
   "execution_count": 1,
   "metadata": {},
   "outputs": [
    {
     "name": "stdout",
     "output_type": "stream",
     "text": [
      "enter a decimal number9.2\n",
      "9.2 <class 'float'>\n"
     ]
    }
   ],
   "source": [
    "a1 = float(input('enter a decimal number'))\n",
    "print(a1,type(a1))"
   ]
  },
  {
   "cell_type": "markdown",
   "metadata": {},
   "source": [
    "### operators\n",
    "- +\n",
    "- -\n",
    "- *\n",
    "- /\n",
    "- %\n",
    "- **\n",
    "- //\n"
   ]
  },
  {
   "cell_type": "code",
   "execution_count": 3,
   "metadata": {},
   "outputs": [
    {
     "name": "stdout",
     "output_type": "stream",
     "text": [
      "3\n",
      "3.3333333333333335\n",
      "8\n"
     ]
    }
   ],
   "source": [
    "print(10//3)\n",
    "print(10/3)\n",
    "print(2**3)"
   ]
  },
  {
   "cell_type": "code",
   "execution_count": 4,
   "metadata": {},
   "outputs": [
    {
     "name": "stdout",
     "output_type": "stream",
     "text": [
      "8.0\n"
     ]
    }
   ],
   "source": [
    "x = 1 + 2 ** 3 / 4 + 5\n",
    "print(x)"
   ]
  },
  {
   "cell_type": "markdown",
   "metadata": {},
   "source": [
    "### logical operators\n",
    "- and\n",
    "- or\n",
    "- not"
   ]
  },
  {
   "cell_type": "code",
   "execution_count": 7,
   "metadata": {},
   "outputs": [
    {
     "name": "stdout",
     "output_type": "stream",
     "text": [
      "True <class 'bool'>\n"
     ]
    }
   ],
   "source": [
    "a = 10\n",
    "b =(a>9) and (a>=10)\n",
    "print(b, type(b))"
   ]
  },
  {
   "cell_type": "code",
   "execution_count": 9,
   "metadata": {},
   "outputs": [
    {
     "name": "stdout",
     "output_type": "stream",
     "text": [
      "True <class 'bool'>\n",
      "True <class 'bool'>\n"
     ]
    }
   ],
   "source": [
    "a = 10\n",
    "b =(a > 9) and (a >= 10)\n",
    "print(b, type(b))\n",
    "b = (a > 9) or (a > 100)\n",
    "print(b, type(b))"
   ]
  },
  {
   "cell_type": "markdown",
   "metadata": {},
   "source": [
    "### control flow statements\n",
    "- conditional statements\n",
    "   - if-else\n",
    "- looping statements\n",
    "   - while\n",
    "   - for"
   ]
  },
  {
   "cell_type": "code",
   "execution_count": 2,
   "metadata": {},
   "outputs": [
    {
     "name": "stdout",
     "output_type": "stream",
     "text": [
      "4\n",
      "even\n"
     ]
    }
   ],
   "source": [
    "## read a number as input\n",
    "# print the putut as even or odd\n",
    "a1= int(input(''))\n",
    "if a1%2==0:\n",
    "    print('even')\n",
    "else:\n",
    "    print('odd')"
   ]
  },
  {
   "cell_type": "code",
   "execution_count": 1,
   "metadata": {},
   "outputs": [
    {
     "name": "stdout",
     "output_type": "stream",
     "text": [
      "2\n",
      "positive\n"
     ]
    }
   ],
   "source": [
    "a2= int(input(''))\n",
    "if a2 == 0:\n",
    "    print('zero')\n",
    "elif a2 > 0:\n",
    "    print('positive')\n",
    "elif a2 < 0:\n",
    "    print('negative number')"
   ]
  },
  {
   "cell_type": "code",
   "execution_count": null,
   "metadata": {},
   "outputs": [],
   "source": []
  },
  {
   "cell_type": "code",
   "execution_count": null,
   "metadata": {},
   "outputs": [],
   "source": []
  }
 ],
 "metadata": {
  "kernelspec": {
   "display_name": "Python 3",
   "language": "python",
   "name": "python3"
  },
  "language_info": {
   "codemirror_mode": {
    "name": "ipython",
    "version": 3
   },
   "file_extension": ".py",
   "mimetype": "text/x-python",
   "name": "python",
   "nbconvert_exporter": "python",
   "pygments_lexer": "ipython3",
   "version": "3.7.3"
  }
 },
 "nbformat": 4,
 "nbformat_minor": 2
}
